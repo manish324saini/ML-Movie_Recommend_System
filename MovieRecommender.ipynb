{
  "metadata": {
    "kernelspec": {
      "name": "python",
      "display_name": "Python (Pyodide)",
      "language": "python"
    },
    "language_info": {
      "codemirror_mode": {
        "name": "python",
        "version": 3
      },
      "file_extension": ".py",
      "mimetype": "text/x-python",
      "name": "python",
      "nbconvert_exporter": "python",
      "pygments_lexer": "ipython3",
      "version": "3.8"
    }
  },
  "nbformat_minor": 5,
  "nbformat": 4,
  "cells": [
    {
      "id": "100b7738-6f7c-4ad0-924c-9208138a8f29",
      "cell_type": "code",
      "source": "import pandas as pd\nimport numpy as np\nimport ast\nfrom sklearn.feature_extraction.text import CountVectorizer\nimport gc\ngc.collect()",
      "metadata": {
        "trusted": true
      },
      "outputs": [
        {
          "execution_count": 1,
          "output_type": "execute_result",
          "data": {
            "text/plain": "0"
          },
          "metadata": {}
        }
      ],
      "execution_count": 1
    },
    {
      "id": "1a997482-d77e-4d1c-908c-d65979bb458a",
      "cell_type": "code",
      "source": "movies = pd.read_csv('tmdb_5000_movies.csv')\ncredits = pd.read_csv('tmdb_5000_credits.csv')",
      "metadata": {
        "trusted": true
      },
      "outputs": [],
      "execution_count": 2
    },
    {
      "id": "3792d90a-87c4-4297-8b7f-b3324136824f",
      "cell_type": "code",
      "source": "#movies.head(1)",
      "metadata": {
        "trusted": true
      },
      "outputs": [],
      "execution_count": 3
    },
    {
      "id": "4443920f-0eb7-48ed-953d-42a6da93e4cf",
      "cell_type": "code",
      "source": "#credits.shape\n#movies.shape",
      "metadata": {
        "trusted": true
      },
      "outputs": [],
      "execution_count": 4
    },
    {
      "id": "cc6d5f3c-1b04-4d2d-b32b-badb403891af",
      "cell_type": "code",
      "source": "# Merge both dateset into single data frame\nmovies = movies.merge(credits, on='title')",
      "metadata": {
        "trusted": true
      },
      "outputs": [],
      "execution_count": 5
    },
    {
      "id": "a901a1a4-1a70-456b-9c18-14a94c58eeff",
      "cell_type": "code",
      "source": "#movies.shape",
      "metadata": {
        "trusted": true
      },
      "outputs": [],
      "execution_count": 6
    },
    {
      "id": "05c9411c-9046-4751-8491-029474ffead9",
      "cell_type": "code",
      "source": "#movies.head(1)\n#movies.info()",
      "metadata": {
        "trusted": true
      },
      "outputs": [],
      "execution_count": 7
    },
    {
      "id": "30805420-6758-473c-88ed-55ef72b23181",
      "cell_type": "code",
      "source": "# Only Neccessary columns will keep\nmovies = movies[['movie_id','title','overview','genres','keywords','cast','crew']]",
      "metadata": {
        "trusted": true
      },
      "outputs": [],
      "execution_count": 8
    },
    {
      "id": "f6b69c91-31ff-443b-af05-9ca487dd1697",
      "cell_type": "code",
      "source": "#movies.head(1)",
      "metadata": {
        "trusted": true
      },
      "outputs": [],
      "execution_count": 9
    },
    {
      "id": "6ed8fb74-59f6-4108-a02e-64c9eb8ef9df",
      "cell_type": "code",
      "source": "# Missing Data\nmovies.isnull().sum()",
      "metadata": {
        "trusted": true
      },
      "outputs": [
        {
          "execution_count": 10,
          "output_type": "execute_result",
          "data": {
            "text/plain": "movie_id    0\ntitle       0\noverview    3\ngenres      0\nkeywords    0\ncast        0\ncrew        0\ndtype: int64"
          },
          "metadata": {}
        }
      ],
      "execution_count": 10
    },
    {
      "id": "560f8eca-1394-471c-8148-b77a3572c159",
      "cell_type": "code",
      "source": "# Drop Blank Data \nmovies.dropna(inplace=True)",
      "metadata": {
        "trusted": true
      },
      "outputs": [],
      "execution_count": 11
    },
    {
      "id": "a111ea46-27c5-4639-8771-72bf5801aa1a",
      "cell_type": "code",
      "source": "# find duplicate data\nmovies.duplicated().sum()",
      "metadata": {
        "trusted": true
      },
      "outputs": [
        {
          "execution_count": 12,
          "output_type": "execute_result",
          "data": {
            "text/plain": "np.int64(0)"
          },
          "metadata": {}
        }
      ],
      "execution_count": 12
    },
    {
      "id": "28a88e1a-c462-49e1-81da-4083507e7f84",
      "cell_type": "code",
      "source": "#movies.iloc[0].genres",
      "metadata": {
        "trusted": true
      },
      "outputs": [],
      "execution_count": 13
    },
    {
      "id": "9c9b87a8-6eeb-430f-871f-18fe09f6bcda",
      "cell_type": "code",
      "source": "# need to update json object to simple values format\n# ast.literal_eval() is a function in Python's ast (Abstract Syntax Tree) module. \n# Its primary purpose is to safely evaluate a string containing a Python literal or a container display into its corresponding Python object. \ndef convertObjectToValues(obj):\n    list_values = []\n    for i in ast.literal_eval(obj):\n        list_values.append(i['name'])\n    return list_values\n        ",
      "metadata": {
        "trusted": true
      },
      "outputs": [],
      "execution_count": 14
    },
    {
      "id": "b5327e01-fe76-44c4-a0da-4c006aed1e8f",
      "cell_type": "code",
      "source": "movies['genres'] = movies['genres'].apply(convertObjectToValues)",
      "metadata": {
        "trusted": true
      },
      "outputs": [],
      "execution_count": 15
    },
    {
      "id": "e52afc86-467a-4e55-8254-5e3a8feac411",
      "cell_type": "code",
      "source": "# movies.head()",
      "metadata": {
        "trusted": true
      },
      "outputs": [],
      "execution_count": 16
    },
    {
      "id": "5eda045d-337e-48e5-995c-36320045bf0b",
      "cell_type": "code",
      "source": "# movies['keywords'].apply(convertObjectToValues)",
      "metadata": {
        "trusted": true
      },
      "outputs": [],
      "execution_count": 17
    },
    {
      "id": "90a43ad6-6418-45ab-ab90-0cb35d801a30",
      "cell_type": "code",
      "source": "movies['keywords']=movies['keywords'].apply(convertObjectToValues)",
      "metadata": {
        "trusted": true
      },
      "outputs": [],
      "execution_count": 18
    },
    {
      "id": "068308da-4543-47af-924b-b8014b6ea68a",
      "cell_type": "code",
      "source": "# movies.head()",
      "metadata": {
        "trusted": true
      },
      "outputs": [],
      "execution_count": 19
    },
    {
      "id": "982d00ec-d038-431c-a63b-50a8d70bc15d",
      "cell_type": "code",
      "source": "def convertTop3ObjectToValues(obj):\n    list_Values = []\n    counter = 0\n    for i in ast.literal_eval(obj):\n        if counter != 3:\n           list_Values.append(i['name'])\n           counter+=1\n        else:\n            break\n    return list_Values        \n            \n            \n        ",
      "metadata": {
        "trusted": true
      },
      "outputs": [],
      "execution_count": 20
    },
    {
      "id": "5199b289-fcd7-41f8-9fa5-d748a3604277",
      "cell_type": "code",
      "source": "# movies['cast'].apply(convertTop3ObjectToValues)",
      "metadata": {
        "trusted": true
      },
      "outputs": [],
      "execution_count": 21
    },
    {
      "id": "94d4ce59-1968-4797-b3e7-2e7636405b6c",
      "cell_type": "code",
      "source": "movies['cast']=movies['cast'].apply(convertTop3ObjectToValues)",
      "metadata": {
        "trusted": true
      },
      "outputs": [],
      "execution_count": 22
    },
    {
      "id": "74f2808c-6c5a-4c82-b8de-940ae01985c4",
      "cell_type": "code",
      "source": "# movies.head()",
      "metadata": {
        "trusted": true
      },
      "outputs": [],
      "execution_count": 23
    },
    {
      "id": "d30c663e-a05e-4e4e-a0b8-4796a7d5071d",
      "cell_type": "code",
      "source": "# movies['crew'][0]",
      "metadata": {
        "trusted": true
      },
      "outputs": [],
      "execution_count": 24
    },
    {
      "id": "df4c4c7f-e26a-412e-97aa-8be32993020d",
      "cell_type": "code",
      "source": "def fetchCrewDirector(obj):\n    list_Values = []\n    for i in ast.literal_eval(obj):\n        if i['job'] == 'Director':\n           list_Values.append(i['name'])\n           break\n    return list_Values",
      "metadata": {
        "trusted": true
      },
      "outputs": [],
      "execution_count": 25
    },
    {
      "id": "0db84696-1e5d-476c-b910-59b158ed5dca",
      "cell_type": "code",
      "source": "#movies['crew'].apply(fetchCrewDirector)",
      "metadata": {
        "trusted": true
      },
      "outputs": [],
      "execution_count": 26
    },
    {
      "id": "ca3afb59-0481-4ae0-81f8-8693155c3f87",
      "cell_type": "code",
      "source": "movies['crew']=movies['crew'].apply(fetchCrewDirector)",
      "metadata": {
        "trusted": true
      },
      "outputs": [],
      "execution_count": 27
    },
    {
      "id": "8c2dfdf7-b404-4a8e-b45e-1df405c330b2",
      "cell_type": "code",
      "source": "#movies.head()",
      "metadata": {
        "trusted": true
      },
      "outputs": [],
      "execution_count": 28
    },
    {
      "id": "52e5d355-82fa-4dcd-8184-876e179148d3",
      "cell_type": "code",
      "source": "#movies['overview'][0]",
      "metadata": {
        "trusted": true
      },
      "outputs": [],
      "execution_count": 29
    },
    {
      "id": "7877ef37-7b27-4f53-9076-bf7a31b2c872",
      "cell_type": "code",
      "source": "#movies['overview'].apply(lambda x:x.split())",
      "metadata": {
        "trusted": true
      },
      "outputs": [],
      "execution_count": 30
    },
    {
      "id": "c8729fb8-e6bf-46ed-b0e7-f8db9f68e4cc",
      "cell_type": "code",
      "source": "movies['overview']=movies['overview'].apply(lambda x:x.split())",
      "metadata": {
        "trusted": true
      },
      "outputs": [],
      "execution_count": 31
    },
    {
      "id": "1d2551f4-a151-4df4-bd94-0d8e4257f883",
      "cell_type": "code",
      "source": "#movies.head()",
      "metadata": {
        "trusted": true,
        "tags": [],
        "editable": true,
        "slideshow": {
          "slide_type": ""
        }
      },
      "outputs": [],
      "execution_count": 32
    },
    {
      "id": "bbeeaf42-313f-4836-9041-3cb9c76c40d6",
      "cell_type": "code",
      "source": "#movies.head()",
      "metadata": {
        "trusted": true
      },
      "outputs": [],
      "execution_count": 33
    },
    {
      "id": "114dc20b-6654-40b5-ac32-2ed5950de4f3",
      "cell_type": "code",
      "source": "# Remove space between words\n#movies['genres'].apply(lambda x:[i.replace(\" \",\"\")for i in x])",
      "metadata": {
        "trusted": true
      },
      "outputs": [],
      "execution_count": 34
    },
    {
      "id": "ab5d89f5-8c00-4672-98ba-2d26fad4d311",
      "cell_type": "code",
      "source": "movies['genres']=movies['genres'].apply(lambda x:[i.replace(\" \",\"\")for i in x])\nmovies['keywords']=movies['keywords'].apply(lambda x:[i.replace(\" \",\"\")for i in x])\nmovies['cast']=movies['cast'].apply(lambda x:[i.replace(\" \",\"\")for i in x])\nmovies['crew']=movies['crew'].apply(lambda x:[i.replace(\" \",\"\")for i in x])",
      "metadata": {
        "trusted": true
      },
      "outputs": [],
      "execution_count": 35
    },
    {
      "id": "63bb8564-6cca-4ff6-9f25-6aa7786e2374",
      "cell_type": "code",
      "source": "#movies.head()",
      "metadata": {
        "trusted": true
      },
      "outputs": [],
      "execution_count": 36
    },
    {
      "id": "724a161b-86ed-489d-aaa3-3643e048cf04",
      "cell_type": "code",
      "source": "# Create New Column as Tags\nmovies['tags'] = movies['overview'] + movies['genres'] + movies['keywords'] + movies['cast'] + movies['crew']",
      "metadata": {
        "trusted": true
      },
      "outputs": [],
      "execution_count": 37
    },
    {
      "id": "7d4c297b-8631-4a27-bfe1-b01b5754e21a",
      "cell_type": "code",
      "source": "# Create New Data Frame\nnewMovieDF = movies[['movie_id','title','tags']]",
      "metadata": {
        "trusted": true
      },
      "outputs": [],
      "execution_count": 38
    },
    {
      "id": "13be9bd6-b53e-4309-b0b1-cf27ba2f1383",
      "cell_type": "code",
      "source": "#newMovieDF.head()",
      "metadata": {
        "trusted": true
      },
      "outputs": [],
      "execution_count": 39
    },
    {
      "id": "357537f6-555a-4af5-91c8-aa290abcc32b",
      "cell_type": "code",
      "source": "#newMovieDF['tags'].apply(lambda x:\" \".join(x))",
      "metadata": {
        "trusted": true
      },
      "outputs": [],
      "execution_count": 40
    },
    {
      "id": "661ee882-5947-4eeb-8cde-8aa578c11863",
      "cell_type": "code",
      "source": "newMovieDF['tags']=newMovieDF['tags'].apply(lambda x:\" \".join(x))",
      "metadata": {
        "trusted": true
      },
      "outputs": [
        {
          "name": "stderr",
          "output_type": "stream",
          "text": "<ipython-input-41-4e9337d1a0a9>:1: SettingWithCopyWarning: \nA value is trying to be set on a copy of a slice from a DataFrame.\nTry using .loc[row_indexer,col_indexer] = value instead\n\nSee the caveats in the documentation: https://pandas.pydata.org/pandas-docs/stable/user_guide/indexing.html#returning-a-view-versus-a-copy\n  newMovieDF['tags']=newMovieDF['tags'].apply(lambda x:\" \".join(x))\n"
        }
      ],
      "execution_count": 41
    },
    {
      "id": "26106a05-ad7a-41d7-a8e3-f19728804691",
      "cell_type": "code",
      "source": "# newMovieDF.head()",
      "metadata": {
        "trusted": true
      },
      "outputs": [],
      "execution_count": 42
    },
    {
      "id": "50cedab9-368c-4462-965b-225b4145003e",
      "cell_type": "code",
      "source": "# convert string into lower case\nnewMovieDF['tags'] = newMovieDF['tags'].apply(lambda x:x.lower())",
      "metadata": {
        "trusted": true
      },
      "outputs": [
        {
          "name": "stderr",
          "output_type": "stream",
          "text": "<ipython-input-43-6d0c81175e9c>:2: SettingWithCopyWarning: \nA value is trying to be set on a copy of a slice from a DataFrame.\nTry using .loc[row_indexer,col_indexer] = value instead\n\nSee the caveats in the documentation: https://pandas.pydata.org/pandas-docs/stable/user_guide/indexing.html#returning-a-view-versus-a-copy\n  newMovieDF['tags'] = newMovieDF['tags'].apply(lambda x:x.lower())\n"
        }
      ],
      "execution_count": 43
    },
    {
      "id": "d6d086e6-5f30-4da2-9b1e-f5ea63164517",
      "cell_type": "code",
      "source": "#newMovieDF.head()",
      "metadata": {
        "trusted": true
      },
      "outputs": [],
      "execution_count": 44
    },
    {
      "id": "839fae53-b1ee-4e20-b1ec-9b67dd92229b",
      "cell_type": "code",
      "source": "# Word to Vectorization via SKLearn and import CountVectorizer\n#cv = CountVectorizer(max_features=5000,stop_words='english')",
      "metadata": {
        "trusted": true
      },
      "outputs": [],
      "execution_count": 45
    },
    {
      "id": "e1cbcf87-beb5-4bb3-9d2e-c2168eb655b3",
      "cell_type": "code",
      "source": "#vectors = cv.fit_transform(newMovieDF['tags']).toarray()",
      "metadata": {
        "trusted": true
      },
      "outputs": [],
      "execution_count": 46
    },
    {
      "id": "0868a6d2-c90a-448e-aa98-09ef77e9b28c",
      "cell_type": "code",
      "source": "#vectors",
      "metadata": {
        "trusted": true
      },
      "outputs": [],
      "execution_count": 47
    },
    {
      "id": "537c944b-609a-41a2-9aa8-36841298486b",
      "cell_type": "code",
      "source": "#cv.get_feature_names_out()",
      "metadata": {
        "trusted": true
      },
      "outputs": [],
      "execution_count": 48
    },
    {
      "id": "55304975-1af3-4763-a747-57453c3967cf",
      "cell_type": "code",
      "source": "# need to use stem function for same type of words like \n# ['loved','loving','love'] if we will apply stem function on these then it will look like\n# ['love','love','love']\nimport nltk",
      "metadata": {
        "trusted": true
      },
      "outputs": [],
      "execution_count": 49
    },
    {
      "id": "55f1365b-90db-4dda-a6fa-0da7918cd7c7",
      "cell_type": "code",
      "source": "from nltk.stem.porter import PorterStemmer",
      "metadata": {
        "trusted": true
      },
      "outputs": [],
      "execution_count": 50
    },
    {
      "id": "8ca9ea9a-2ae6-46db-aa83-577af5b2919f",
      "cell_type": "code",
      "source": "ps = PorterStemmer()",
      "metadata": {
        "trusted": true
      },
      "outputs": [],
      "execution_count": 51
    },
    {
      "id": "4d13fd4e-1164-4b00-b170-93a8192c80f2",
      "cell_type": "code",
      "source": "# create helper function for every words stem\ndef stem(text):\n    y = []\n    for i in text.split():\n        y.append(ps.stem(i))\n    return \" \".join(y)\n        ",
      "metadata": {
        "trusted": true
      },
      "outputs": [],
      "execution_count": 52
    },
    {
      "id": "c36ceb83-285d-48c7-95f6-366aa583a524",
      "cell_type": "code",
      "source": "#newMovieDF['tags'].apply(stem)",
      "metadata": {
        "trusted": true
      },
      "outputs": [],
      "execution_count": 53
    },
    {
      "id": "7454439d-4eae-4c27-9bd9-95bc387d8f6a",
      "cell_type": "code",
      "source": "newMovieDF['tags'] = newMovieDF['tags'].apply(stem)",
      "metadata": {
        "trusted": true
      },
      "outputs": [
        {
          "name": "stderr",
          "output_type": "stream",
          "text": "<ipython-input-54-b2abd0e91e98>:1: SettingWithCopyWarning: \nA value is trying to be set on a copy of a slice from a DataFrame.\nTry using .loc[row_indexer,col_indexer] = value instead\n\nSee the caveats in the documentation: https://pandas.pydata.org/pandas-docs/stable/user_guide/indexing.html#returning-a-view-versus-a-copy\n  newMovieDF['tags'] = newMovieDF['tags'].apply(stem)\n"
        }
      ],
      "execution_count": 54
    },
    {
      "id": "d88a67d9-b328-4be0-a12e-9b9027bfc055",
      "cell_type": "code",
      "source": "#newMovieDF.head().tags",
      "metadata": {
        "trusted": true
      },
      "outputs": [],
      "execution_count": 55
    },
    {
      "id": "e6340e44-ad23-4283-8c6b-82e3e3784694",
      "cell_type": "code",
      "source": "# Word to Vectorization via SKLearn and import CountVectorizer\ncv = CountVectorizer(max_features=5000,stop_words='english')",
      "metadata": {
        "trusted": true
      },
      "outputs": [],
      "execution_count": 56
    },
    {
      "id": "a3b4d626-89b1-43b8-b2ce-c37a52dfc4af",
      "cell_type": "code",
      "source": "vectors = cv.fit_transform(newMovieDF['tags']).toarray()",
      "metadata": {
        "trusted": true
      },
      "outputs": [],
      "execution_count": 57
    },
    {
      "id": "c18f9a3b-f340-4f66-82aa-a2a12ad58d98",
      "cell_type": "code",
      "source": "#vectors",
      "metadata": {
        "trusted": true
      },
      "outputs": [],
      "execution_count": 58
    },
    {
      "id": "7c08db08-a0a1-45b3-a9eb-76f5a2cbc9d6",
      "cell_type": "code",
      "source": "#cv.get_feature_names_out()",
      "metadata": {
        "trusted": true
      },
      "outputs": [],
      "execution_count": 59
    },
    {
      "id": "8ed2d456-3a80-4a85-a535-6a88d2ba88ca",
      "cell_type": "code",
      "source": "# now we will get the distance for each movie vector with cosine formula from SKLearn\nfrom sklearn.metrics.pairwise import cosine_similarity",
      "metadata": {
        "trusted": true
      },
      "outputs": [],
      "execution_count": 60
    },
    {
      "id": "a8e5d9fc-0d66-47f1-858f-fb1c7e31c23e",
      "cell_type": "code",
      "source": "similarity = cosine_similarity(vectors)",
      "metadata": {
        "trusted": true
      },
      "outputs": [],
      "execution_count": 61
    },
    {
      "id": "51848dea-2a47-40e1-997a-5cccd2581325",
      "cell_type": "code",
      "source": "#similarity[0].shape",
      "metadata": {
        "trusted": true
      },
      "outputs": [],
      "execution_count": 62
    },
    {
      "id": "47689a82-6fb8-41b9-86b9-32fe1dd588d6",
      "cell_type": "code",
      "source": "#vectors",
      "metadata": {
        "trusted": true
      },
      "outputs": [],
      "execution_count": 63
    },
    {
      "id": "faf0eb1a-3f6b-473d-8729-ffb3e9ad2188",
      "cell_type": "code",
      "source": "# fetch top 10 similar movies\ndef recommend(movie):\n    index = newMovieDF[newMovieDF['title'] == movie].index[0]\n    distances = sorted(list(enumerate(similarity[index])),reverse=True,key = lambda x: x[1])\n    for i in distances[1:11]:\n        print(newMovieDF.iloc[i[0]].title)          ",
      "metadata": {
        "trusted": true
      },
      "outputs": [],
      "execution_count": 64
    },
    {
      "id": "7bf0fb74-d063-4a72-b9a5-a533beb11c38",
      "cell_type": "code",
      "source": "#recommend('Batman Begins')",
      "metadata": {
        "trusted": true
      },
      "outputs": [],
      "execution_count": 65
    },
    {
      "id": "bad21e8b-52fd-49e7-83b4-4e0d65b86d3d",
      "cell_type": "code",
      "source": "import pickle, gzip",
      "metadata": {
        "trusted": true
      },
      "outputs": [],
      "execution_count": 66
    },
    {
      "id": "898e67c9-2ea8-4347-bad3-00767f68821d",
      "cell_type": "code",
      "source": "import sys\nprint(sys.getsizeof(similarity))",
      "metadata": {
        "trusted": true
      },
      "outputs": [
        {
          "name": "stdout",
          "output_type": "stream",
          "text": "184781152\n"
        }
      ],
      "execution_count": 69
    },
    {
      "id": "8783a723-d5d5-492b-a37b-a255c5a38aac",
      "cell_type": "code",
      "source": "#pickle.dump(similarity,open('similaritylist.pkl','wb'))\nwith open('similarity.pkl', 'wb') as f:\n    pickle.dump(similarity, f)\n\n#with gzip.open('similarity.pkl.gz', 'rb') as f:\n #   similarity = pickle.load(f)",
      "metadata": {
        "trusted": true
      },
      "outputs": [],
      "execution_count": null
    },
    {
      "id": "e71a9840-a24b-4f71-8085-4e3cadfd91c7",
      "cell_type": "code",
      "source": "# pickle.dump(newMovieDF,open('movies.pkl','wb'))",
      "metadata": {
        "trusted": true
      },
      "outputs": [],
      "execution_count": null
    },
    {
      "id": "0938e9a7-5bed-4d0b-a727-40cb619950c3",
      "cell_type": "code",
      "source": "",
      "metadata": {
        "trusted": true
      },
      "outputs": [],
      "execution_count": null
    }
  ]
}